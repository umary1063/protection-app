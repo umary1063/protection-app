{
 "cells": [
  {
   "cell_type": "code",
   "execution_count": null,
   "id": "356482b6-1209-4f18-be76-99a30a25ef41",
   "metadata": {},
   "outputs": [],
   "source": []
  },
  {
   "cell_type": "code",
   "execution_count": 2,
   "id": "dd74178e-99fc-4c31-8154-b17c912dcf99",
   "metadata": {
    "tags": []
   },
   "outputs": [
    {
     "name": "stdout",
     "output_type": "stream",
     "text": [
      "Collecting psycopg2\n",
      "  Obtaining dependency information for psycopg2 from https://files.pythonhosted.org/packages/37/2c/5133dd3183a3bd82371569f0dd783e6927672de7e671b278ce248810b7f7/psycopg2-2.9.9-cp311-cp311-win_amd64.whl.metadata\n",
      "  Downloading psycopg2-2.9.9-cp311-cp311-win_amd64.whl.metadata (4.5 kB)\n",
      "Downloading psycopg2-2.9.9-cp311-cp311-win_amd64.whl (1.2 MB)\n",
      "   ---------------------------------------- 0.0/1.2 MB ? eta -:--:--\n",
      "   ---------------------------------------- 0.0/1.2 MB ? eta -:--:--\n",
      "    --------------------------------------- 0.0/1.2 MB 217.9 kB/s eta 0:00:06\n",
      "   - -------------------------------------- 0.0/1.2 MB 187.9 kB/s eta 0:00:07\n",
      "   - -------------------------------------- 0.0/1.2 MB 187.9 kB/s eta 0:00:07\n",
      "   - -------------------------------------- 0.0/1.2 MB 178.6 kB/s eta 0:00:07\n",
      "   -- ------------------------------------- 0.1/1.2 MB 204.8 kB/s eta 0:00:06\n",
      "   --- ------------------------------------ 0.1/1.2 MB 262.6 kB/s eta 0:00:05\n",
      "   --- ------------------------------------ 0.1/1.2 MB 312.2 kB/s eta 0:00:04\n",
      "   ---- ----------------------------------- 0.1/1.2 MB 340.5 kB/s eta 0:00:03\n",
      "   ------ --------------------------------- 0.2/1.2 MB 421.8 kB/s eta 0:00:03\n",
      "   ------- -------------------------------- 0.2/1.2 MB 458.5 kB/s eta 0:00:03\n",
      "   -------- ------------------------------- 0.3/1.2 MB 449.3 kB/s eta 0:00:03\n",
      "   ----------- ---------------------------- 0.3/1.2 MB 549.2 kB/s eta 0:00:02\n",
      "   ------------- -------------------------- 0.4/1.2 MB 591.1 kB/s eta 0:00:02\n",
      "   ----------------- ---------------------- 0.5/1.2 MB 731.4 kB/s eta 0:00:01\n",
      "   ----------------- ---------------------- 0.5/1.2 MB 731.4 kB/s eta 0:00:01\n",
      "   ------------------------- -------------- 0.7/1.2 MB 930.9 kB/s eta 0:00:01\n",
      "   ----------------------------- ---------- 0.8/1.2 MB 1.0 MB/s eta 0:00:01\n",
      "   ----------------------------------- ---- 1.0/1.2 MB 1.2 MB/s eta 0:00:01\n",
      "   ------------------------------------ --- 1.1/1.2 MB 1.2 MB/s eta 0:00:01\n",
      "   ---------------------------------------- 1.2/1.2 MB 1.2 MB/s eta 0:00:00\n",
      "Installing collected packages: psycopg2\n",
      "Successfully installed psycopg2-2.9.9\n",
      "Note: you may need to restart the kernel to use updated packages.\n"
     ]
    }
   ],
   "source": [
    "pip install psycopg2"
   ]
  },
  {
   "cell_type": "code",
   "execution_count": 3,
   "id": "aae87a80-bda3-4403-867b-363168c55364",
   "metadata": {
    "tags": []
   },
   "outputs": [],
   "source": [
    "import json\n",
    "import psycopg2"
   ]
  },
  {
   "cell_type": "code",
   "execution_count": 4,
   "id": "b83b874a-34d6-4b0a-9128-5a9a2c309c50",
   "metadata": {
    "tags": []
   },
   "outputs": [],
   "source": [
    "# Load JSON data\n",
    "with open('BAY.json', 'r') as file:\n",
    "    data = json.load(file)\n",
    "\n"
   ]
  },
  {
   "cell_type": "code",
   "execution_count": 5,
   "id": "a640b2c7-0251-4f9d-bee8-985de402718f",
   "metadata": {
    "tags": []
   },
   "outputs": [],
   "source": [
    "# Connect to PostgreSQL\n",
    "conn = psycopg2.connect(\n",
    "    host=\"localhost\",\n",
    "    database=\"child_protection_app\",\n",
    "    user=\"admin\",\n",
    "    password=\"admin\"\n",
    ")\n",
    "cursor = conn.cursor()\n",
    "\n"
   ]
  },
  {
   "cell_type": "code",
   "execution_count": 9,
   "id": "7d2e46eb-018d-466e-874a-5138595b7665",
   "metadata": {
    "tags": []
   },
   "outputs": [
    {
     "ename": "KeyError",
     "evalue": "'States'",
     "output_type": "error",
     "traceback": [
      "\u001b[1;31m---------------------------------------------------------------------------\u001b[0m",
      "\u001b[1;31mKeyError\u001b[0m                                  Traceback (most recent call last)",
      "Cell \u001b[1;32mIn[9], line 2\u001b[0m\n\u001b[0;32m      1\u001b[0m \u001b[38;5;66;03m# Insert States\u001b[39;00m\n\u001b[1;32m----> 2\u001b[0m \u001b[38;5;28;01mfor\u001b[39;00m state \u001b[38;5;129;01min\u001b[39;00m data[\u001b[38;5;124m'\u001b[39m\u001b[38;5;124mStates\u001b[39m\u001b[38;5;124m'\u001b[39m]:\n\u001b[0;32m      3\u001b[0m     cursor\u001b[38;5;241m.\u001b[39mexecute(\n\u001b[0;32m      4\u001b[0m         \u001b[38;5;124m\"\u001b[39m\u001b[38;5;124mINSERT INTO states (state_id, state_name) VALUES (\u001b[39m\u001b[38;5;132;01m%s\u001b[39;00m\u001b[38;5;124m, \u001b[39m\u001b[38;5;132;01m%s\u001b[39;00m\u001b[38;5;124m)\u001b[39m\u001b[38;5;124m\"\u001b[39m,\n\u001b[0;32m      5\u001b[0m         (state[\u001b[38;5;124m'\u001b[39m\u001b[38;5;124mid\u001b[39m\u001b[38;5;124m'\u001b[39m], state[\u001b[38;5;124m'\u001b[39m\u001b[38;5;124mname\u001b[39m\u001b[38;5;124m'\u001b[39m])\n\u001b[0;32m      6\u001b[0m     )\n\u001b[0;32m      8\u001b[0m \u001b[38;5;66;03m# Insert LGAs\u001b[39;00m\n",
      "\u001b[1;31mKeyError\u001b[0m: 'States'"
     ]
    }
   ],
   "source": [
    "# Insert States\n",
    "for state in data['States']:\n",
    "    cursor.execute(\n",
    "        \"INSERT INTO states (state_id, state_name) VALUES (%s, %s)\",\n",
    "        (state['id'], state['name'])\n",
    "    )\n",
    "\n",
    "# Insert LGAs\n",
    "for state in data['States']:\n",
    "    for lga in state['lgas']:\n",
    "        cursor.execute(\n",
    "            \"INSERT INTO lgas (lga_id, state_id, lga_name) VALUES (%s, %s, %s)\",\n",
    "            (lga['id'], state['id'], lga['name'])\n",
    "        )\n",
    "\n",
    "# Insert Wards\n",
    "for state in data['States']:\n",
    "    for lga in state['lgas']:\n",
    "        for ward in lga['wards']:\n",
    "            cursor.execute(\n",
    "                \"INSERT INTO wards (ward_id, lga_id, ward_name) VALUES (%s, %s, %s)\",\n",
    "                (ward['id'], lga['id'], ward['name'])\n",
    "            )"
   ]
  },
  {
   "cell_type": "code",
   "execution_count": null,
   "id": "bdd6a38b-2bf9-4882-8e65-869084eae06a",
   "metadata": {},
   "outputs": [],
   "source": [
    "# Commit changes\n",
    "conn.commit()\n",
    "\n",
    "# Close connection\n",
    "cursor.close()\n",
    "conn.close()\n"
   ]
  }
 ],
 "metadata": {
  "kernelspec": {
   "display_name": "Python 3 (ipykernel)",
   "language": "python",
   "name": "python3"
  },
  "language_info": {
   "codemirror_mode": {
    "name": "ipython",
    "version": 3
   },
   "file_extension": ".py",
   "mimetype": "text/x-python",
   "name": "python",
   "nbconvert_exporter": "python",
   "pygments_lexer": "ipython3",
   "version": "3.11.5"
  }
 },
 "nbformat": 4,
 "nbformat_minor": 5
}
